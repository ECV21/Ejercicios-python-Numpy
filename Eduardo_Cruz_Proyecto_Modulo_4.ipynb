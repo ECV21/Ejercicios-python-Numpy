{
  "nbformat": 4,
  "nbformat_minor": 0,
  "metadata": {
    "colab": {
      "provenance": [],
      "authorship_tag": "ABX9TyOiqbKbbWXnR2s4rxwBr218",
      "include_colab_link": true
    },
    "kernelspec": {
      "name": "python3",
      "display_name": "Python 3"
    },
    "language_info": {
      "name": "python"
    }
  },
  "cells": [
    {
      "cell_type": "markdown",
      "metadata": {
        "id": "view-in-github",
        "colab_type": "text"
      },
      "source": [
        "<a href=\"https://colab.research.google.com/github/ECV21/Ejercicios-python-Numpy/blob/main/Eduardo_Cruz_Proyecto_Modulo_4.ipynb\" target=\"_parent\"><img src=\"https://colab.research.google.com/assets/colab-badge.svg\" alt=\"Open In Colab\"/></a>"
      ]
    },
    {
      "cell_type": "markdown",
      "source": [
        "#Elaboración de un programa: Valores extremos para una función real dos variables reales\n"
      ],
      "metadata": {
        "id": "pyw_RhG9xj_C"
      }
    },
    {
      "cell_type": "markdown",
      "source": [
        "##Eduardo Cruz Vega"
      ],
      "metadata": {
        "id": "drpTqIvLxssb"
      }
    },
    {
      "cell_type": "markdown",
      "source": [
        "###Elaborar un programa que obtenga por medio de variables simbólicas los valores extremos locales de una función real dos variables reales. El programa debe especificar los máximos y mínimos y puntos silla."
      ],
      "metadata": {
        "id": "VNaMessayHre"
      }
    },
    {
      "cell_type": "code",
      "source": [
        "#importación de librerías\n",
        "\n",
        "\n",
        "import sympy as sp\n",
        "import numpy as np"
      ],
      "metadata": {
        "id": "MF65g8uJx8hA"
      },
      "execution_count": 2,
      "outputs": []
    },
    {
      "cell_type": "code",
      "source": [
        "#crearmos la función\n",
        "def encontrar_extremos_locales(expresion_texto):\n",
        "    # Primeros definimos las variables simbólicas; solo dos variables\n",
        "    x, y = sp.symbols('x y')\n",
        "\n",
        "    #Convertimos argumento string en una expresión simbólica; facilitará realizar derivadas\n",
        "    funcion_simbolica = sp.sympify(expresion_texto)\n",
        "\n",
        "    #usando la libería de sympy calculamos las derivadas respecto x y y\n",
        "    derivada_x = sp.diff(funcion_simbolica, x)\n",
        "    derivada_y = sp.diff(funcion_simbolica, y)\n",
        "\n",
        "    #aquí encontramos puntos criticos al igual cada funcion derivada a CERO\n",
        "    puntos_criticos = sp.solve([derivada_x, derivada_y], (x, y), dict=True)\n",
        "    #print('Puntos criticos',puntos_criticos)\n",
        "\n",
        "\n",
        "    print()\n",
        "    print(f\"Función: f(x, y) = {funcion_simbolica}\")\n",
        "    print()\n",
        "    print(f\"Lois puntos críticos encontrados son: {puntos_criticos}\")\n",
        "\n",
        "    #Aquí vamos a cualcular la 2da derivadas parciales; primera derivada de la función derivada preciemante\n",
        "    derivada_xx = sp.diff(derivada_x, x)\n",
        "    derivada_yy = sp.diff(derivada_y, y)\n",
        "    derivada_xy = sp.diff(derivada_x, y)\n",
        "    ############################################################################\n",
        "    #Aquí vamos a clasificar cada punto crítico usando el determinante de la matriz Hessiana\n",
        "    for punto in puntos_criticos: #recorer todos los puntos críticos encontrados\n",
        "        x0 = punto[x] #extraer valor del diccionario\n",
        "        y0 = punto[y]\n",
        "\n",
        "        #ahora vamos a evaluar las segundas derivadas en el punto crítico encontrado\n",
        "        fxx_valor = derivada_xx.subs({x: x0, y: y0}) #sustituimos x0 y y0 en las derivads de 2do orden\n",
        "        fyy_valor = derivada_yy.subs({x: x0, y: y0})\n",
        "        fxy_valor = derivada_xy.subs({x: x0, y: y0})\n",
        "\n",
        "        #calcular el determinante de la matriz Hessiana: fxx - fyy - (fxy)**2\n",
        "        \"\"\"\n",
        "        * si Det > 0 y fxx > 0 --> Mínimo local\n",
        "        * si Det > 0 y fxx < 0 --> Máximo local\n",
        "        * si Det < 0 --> Punto silla\n",
        "        * si Det = 0 --> No se puede determinar\n",
        "        \"\"\"\n",
        "        Determinante_hessiana = fxx_valor * fyy_valor - fxy_valor**2\n",
        "        #print('determiannte es: ', Determinante_hessiana)\n",
        "\n",
        "        print()\n",
        "        print(f\"Punto crítico en ({x0}, {y0}):\")\n",
        "        print(f\"fxx = {fxx_valor}, fyy = {fyy_valor}, fxy = {fxy_valor}, Determinnante Hessiana = {Determinante_hessiana}\")\n",
        "\n",
        "        #de acuerdo a la regla antes señalada, calsificamos el DET y 2da derivada\n",
        "        if Determinante_hessiana > 0:\n",
        "            if fxx_valor > 0:\n",
        "                print(\"--> Mínimo local\")\n",
        "            elif fxx_valor < 0:\n",
        "                print(\"--> Máximo local\")\n",
        "        elif Determinante_hessiana < 0:\n",
        "            print(\"--> Punto silla\")\n",
        "        else:\n",
        "            print(\"--> No se puede determinar (D = 0)\")\n"
      ],
      "metadata": {
        "id": "_I6i5-D6xlmh"
      },
      "execution_count": 14,
      "outputs": []
    },
    {
      "cell_type": "markdown",
      "source": [
        "##ejemplos de mínimo local"
      ],
      "metadata": {
        "id": "QqJxDDv9y8qa"
      }
    },
    {
      "cell_type": "code",
      "source": [
        "\n",
        "# Ejemplo de uso\n",
        "encontrar_extremos_locales(\"x**2 + y**2 - 4*x - 6*y + 13\")\n"
      ],
      "metadata": {
        "colab": {
          "base_uri": "https://localhost:8080/"
        },
        "id": "6TQaCxdyxqjo",
        "outputId": "a52c1333-f4b1-45fc-9175-6fdea66df57f"
      },
      "execution_count": 16,
      "outputs": [
        {
          "output_type": "stream",
          "name": "stdout",
          "text": [
            "\n",
            "Función: f(x, y) = x**2 - 4*x + y**2 - 6*y + 13\n",
            "\n",
            "Lois puntos críticos encontrados son: [{x: 2, y: 3}]\n",
            "\n",
            "Punto crítico en (2, 3):\n",
            "fxx = 2, fyy = 2, fxy = 0, Determinnante Hessiana = 4\n",
            "--> Mínimo local\n"
          ]
        }
      ]
    },
    {
      "cell_type": "markdown",
      "source": [
        "#ejemplo de max local"
      ],
      "metadata": {
        "id": "vQzNIg61Jn-_"
      }
    },
    {
      "cell_type": "code",
      "source": [
        "\n",
        "# Ejemplo de uso\n",
        "encontrar_extremos_locales(\"-x**2 - y**2 + 4*x + 6*y\")"
      ],
      "metadata": {
        "colab": {
          "base_uri": "https://localhost:8080/"
        },
        "id": "nNxAQIRCy9_0",
        "outputId": "320fe2c3-e776-44ea-e5e8-2643874e76c1"
      },
      "execution_count": 17,
      "outputs": [
        {
          "output_type": "stream",
          "name": "stdout",
          "text": [
            "\n",
            "Función: f(x, y) = -x**2 + 4*x - y**2 + 6*y\n",
            "\n",
            "Lois puntos críticos encontrados son: [{x: 2, y: 3}]\n",
            "\n",
            "Punto crítico en (2, 3):\n",
            "fxx = -2, fyy = -2, fxy = 0, Determinnante Hessiana = 4\n",
            "--> Máximo local\n"
          ]
        }
      ]
    },
    {
      "cell_type": "markdown",
      "source": [
        "#ejemplo de punto silla"
      ],
      "metadata": {
        "id": "nJ9Gb_zXJwhS"
      }
    },
    {
      "cell_type": "code",
      "source": [
        "encontrar_extremos_locales(\"x**2 - y**2\")"
      ],
      "metadata": {
        "colab": {
          "base_uri": "https://localhost:8080/"
        },
        "id": "qkiuyYcrJu_e",
        "outputId": "85636bde-4673-4419-bfc3-cdb81544504f"
      },
      "execution_count": 18,
      "outputs": [
        {
          "output_type": "stream",
          "name": "stdout",
          "text": [
            "\n",
            "Función: f(x, y) = x**2 - y**2\n",
            "\n",
            "Lois puntos críticos encontrados son: [{x: 0, y: 0}]\n",
            "\n",
            "Punto crítico en (0, 0):\n",
            "fxx = 2, fyy = -2, fxy = 0, Determinnante Hessiana = -4\n",
            "--> Punto silla\n"
          ]
        }
      ]
    },
    {
      "cell_type": "markdown",
      "source": [
        "#ejemplo de no se pude determinar"
      ],
      "metadata": {
        "id": "j4tLLgOdJ2D4"
      }
    },
    {
      "cell_type": "code",
      "source": [
        "encontrar_extremos_locales(\"x**4 + y**4\")\n"
      ],
      "metadata": {
        "colab": {
          "base_uri": "https://localhost:8080/"
        },
        "id": "zfO0fk7PJ0Gg",
        "outputId": "1d143d9f-80ff-49c1-cfe6-cd80cf4f44f8"
      },
      "execution_count": 19,
      "outputs": [
        {
          "output_type": "stream",
          "name": "stdout",
          "text": [
            "\n",
            "Función: f(x, y) = x**4 + y**4\n",
            "\n",
            "Lois puntos críticos encontrados son: [{x: 0, y: 0}]\n",
            "\n",
            "Punto crítico en (0, 0):\n",
            "fxx = 0, fyy = 0, fxy = 0, Determinnante Hessiana = 0\n",
            "--> No se puede determinar (D = 0)\n"
          ]
        }
      ]
    },
    {
      "cell_type": "code",
      "source": [],
      "metadata": {
        "id": "d5I9a4QaJ7ws"
      },
      "execution_count": null,
      "outputs": []
    }
  ]
}