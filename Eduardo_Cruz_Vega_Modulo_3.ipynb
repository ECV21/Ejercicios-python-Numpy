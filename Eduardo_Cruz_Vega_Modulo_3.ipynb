{
  "nbformat": 4,
  "nbformat_minor": 0,
  "metadata": {
    "colab": {
      "provenance": []
    },
    "kernelspec": {
      "name": "python3",
      "display_name": "Python 3"
    },
    "language_info": {
      "name": "python"
    }
  },
  "cells": [
    {
      "cell_type": "markdown",
      "source": [
        "#Elaboración de un programa: Método de Eliminación de Gauss-Jordan"
      ],
      "metadata": {
        "id": "NL8zRBoZkp9r"
      }
    },
    {
      "cell_type": "markdown",
      "source": [
        "###Eduardo Cruz Vega"
      ],
      "metadata": {
        "id": "S8ufgMNekt_w"
      }
    },
    {
      "cell_type": "code",
      "execution_count": 1,
      "metadata": {
        "id": "fBTO8jNRkgsX"
      },
      "outputs": [],
      "source": [
        "#1aquí importatemos la librería de Numpy\n",
        "import numpy as np\n",
        "from sympy import Matrix, symbols, linsolve, pretty\n"
      ]
    },
    {
      "cell_type": "markdown",
      "source": [
        "Tarea: Elaborar un programa que resuelva un Sistema de m Ecuaciones Lineales con n incógnitas. El programa debe determinar si el sistema tiene solución única, infinitas soluciones o no tiene solución. En caso de tener solución única se debe mostrar la solución del sistema, en caso de tener infinitas soluciones el programa debe mostrar el conjunto solución y en caso de no tener solución se debe mostrar la frase: “El sistema no tiene solución”."
      ],
      "metadata": {
        "id": "gH-5t37Ulhy0"
      }
    },
    {
      "cell_type": "markdown",
      "source": [
        "#Creación del programa que resuelva sistema de ecuaciones"
      ],
      "metadata": {
        "id": "EyEGrgIqvWUX"
      }
    },
    {
      "cell_type": "code",
      "source": [
        "#empezamos a crear el progrma\n",
        "\n",
        "def resolver_sistema02(matriz_A, matriz_b):\n",
        "    A = Matrix(matriz_A)\n",
        "    b = Matrix(matriz_b)\n",
        "\n",
        "    print(\"\\nEsta es la matriz A (coeficientes) que acaba de ingresar:\")\n",
        "    print(pretty(A))\n",
        "\n",
        "    print(\"\\nEste es el vector b (constantes) que acaba de ingresar:\")\n",
        "    print(pretty(b))\n",
        "\n",
        "    matriz_aumentada = A.row_join(b)\n",
        "    print(\"\\nEsta es la matriz aumentada inicial [A|b]:\")\n",
        "    print(pretty(matriz_aumentada))\n",
        "\n",
        "    matriz_rref, _ = matriz_aumentada.rref()\n",
        "    print(\"\\nEsta es la matriz en forma escalonada reducida (Gauss-Jordan):\")\n",
        "    print(pretty(matriz_rref))\n",
        "\n",
        "    filas, columnas = A.shape\n",
        "    variables = symbols(f'x1:{columnas+1}')\n",
        "    soluciones = linsolve((A, b), variables)\n",
        "\n",
        "    #print(soluciones)\n",
        "\n",
        "    # print()\n",
        "    if not soluciones:\n",
        "        print(\"Este sistema NO tiene solución (es inconsistente).\")\n",
        "        return\n",
        "    # print(soluciones)\n",
        "\n",
        "    # Clasificar la solución en INIFNITAS o UNICA solucion\n",
        "    rango = A.rank() #calculamos núm max de filas linealmente dependientes que tien la matriz A\n",
        "    num_incognitas = columnas #asignamos al la varibale \"num_incognitas\" el número de columnas (variables d ematriz A)\n",
        "\n",
        "\n",
        "    soluciones_list = list(soluciones)[0] #convertir el 1er elemento de la SOLUCION en una lista; luego tomamos los valores de solución\n",
        "\n",
        "    if rango < num_incognitas: #si ocurre esta condición entonces hay variables LIBRES-->como estas puden tomar cualquie rvalor-->infinitas solucines\n",
        "        print(\"Este sistema tiene infinitas soluciones. El conjunto soluci+on sería:\")\n",
        "    else: #rango = num incognitas-->no hay varuabkes libres-->cada incognita tiene valor único\n",
        "        print(\"Este  sistema tiene solución única y es consistente.\") #tinee +unica solución\n",
        "\n",
        "    for var, expr in zip(variables, soluciones_list):\n",
        "        print(f\"{var} = {expr}\")\n"
      ],
      "metadata": {
        "id": "sfYvVX6mjtbS"
      },
      "execution_count": 2,
      "outputs": []
    },
    {
      "cell_type": "code",
      "source": [
        "#ejemplo con solución infinitas\n",
        "\n",
        "#ingresa la matriz de coeficinetes:\n",
        "A1 = [[1, 2, -1],\n",
        " [2, 4, -2],\n",
        " [-1, -2, 1]]\n",
        "\n",
        "#ingresa la matriz de constantes\n",
        "b1 = [3, 6, -3]\n",
        "\n",
        "#aplicamos la función que creamos\n",
        "resolver_sistema02(A1, b1)"
      ],
      "metadata": {
        "colab": {
          "base_uri": "https://localhost:8080/"
        },
        "id": "Fss2XIzQuEae",
        "outputId": "92cdb2a6-4f18-40e0-8775-bc0c343ce8e8"
      },
      "execution_count": 3,
      "outputs": [
        {
          "output_type": "stream",
          "name": "stdout",
          "text": [
            "\n",
            "Esta es la matriz A (coeficientes) que acaba de ingresar:\n",
            "⎡1   2   -1⎤\n",
            "⎢          ⎥\n",
            "⎢2   4   -2⎥\n",
            "⎢          ⎥\n",
            "⎣-1  -2  1 ⎦\n",
            "\n",
            "Este es el vector b (constantes) que acaba de ingresar:\n",
            "⎡3 ⎤\n",
            "⎢  ⎥\n",
            "⎢6 ⎥\n",
            "⎢  ⎥\n",
            "⎣-3⎦\n",
            "\n",
            "Esta es la matriz aumentada inicial [A|b]:\n",
            "⎡1   2   -1  3 ⎤\n",
            "⎢              ⎥\n",
            "⎢2   4   -2  6 ⎥\n",
            "⎢              ⎥\n",
            "⎣-1  -2  1   -3⎦\n",
            "\n",
            "Esta es la matriz en forma escalonada reducida (Gauss-Jordan):\n",
            "⎡1  2  -1  3⎤\n",
            "⎢           ⎥\n",
            "⎢0  0  0   0⎥\n",
            "⎢           ⎥\n",
            "⎣0  0  0   0⎦\n",
            "Este sistema tiene infinitas soluciones. El conjunto soluci+on sería:\n",
            "x1 = -2*x2 + x3 + 3\n",
            "x2 = x2\n",
            "x3 = x3\n"
          ]
        }
      ]
    },
    {
      "cell_type": "code",
      "source": [
        "#Ejemplo de sistem inconsistente\n",
        "A2 = [[1, 1, 1],\n",
        "      [2, 2, 2],\n",
        "      [1, 1, 1]] # Corregido A2 para que sea claramente inconsistente con b2\n",
        "b2 = [6, 12, 10]\n",
        "resolver_sistema02(A2, b2)"
      ],
      "metadata": {
        "colab": {
          "base_uri": "https://localhost:8080/"
        },
        "id": "4DLTcN5oE4ik",
        "outputId": "30005860-7896-415e-8a56-18967f3f257f"
      },
      "execution_count": 4,
      "outputs": [
        {
          "output_type": "stream",
          "name": "stdout",
          "text": [
            "\n",
            "Esta es la matriz A (coeficientes) que acaba de ingresar:\n",
            "⎡1  1  1⎤\n",
            "⎢       ⎥\n",
            "⎢2  2  2⎥\n",
            "⎢       ⎥\n",
            "⎣1  1  1⎦\n",
            "\n",
            "Este es el vector b (constantes) que acaba de ingresar:\n",
            "⎡6 ⎤\n",
            "⎢  ⎥\n",
            "⎢12⎥\n",
            "⎢  ⎥\n",
            "⎣10⎦\n",
            "\n",
            "Esta es la matriz aumentada inicial [A|b]:\n",
            "⎡1  1  1  6 ⎤\n",
            "⎢           ⎥\n",
            "⎢2  2  2  12⎥\n",
            "⎢           ⎥\n",
            "⎣1  1  1  10⎦\n",
            "\n",
            "Esta es la matriz en forma escalonada reducida (Gauss-Jordan):\n",
            "⎡1  1  1  0⎤\n",
            "⎢          ⎥\n",
            "⎢0  0  0  1⎥\n",
            "⎢          ⎥\n",
            "⎣0  0  0  0⎦\n",
            "Este sistema NO tiene solución (es inconsistente).\n"
          ]
        }
      ]
    },
    {
      "cell_type": "code",
      "source": [
        "#ejemplo con solución única\n",
        "A = [[2, 1, -1],\n",
        "     [-3, -1, 2],\n",
        "     [-2, 1, 2]]\n",
        "\n",
        "b = [8, -11, -3]\n",
        "\n",
        "resolver_sistema02(A, b)\n"
      ],
      "metadata": {
        "colab": {
          "base_uri": "https://localhost:8080/"
        },
        "id": "5hh0BWkUlgZP",
        "outputId": "ad2b1d84-89f1-421f-fb1d-1f24adb5e5b2"
      },
      "execution_count": 5,
      "outputs": [
        {
          "output_type": "stream",
          "name": "stdout",
          "text": [
            "\n",
            "Esta es la matriz A (coeficientes) que acaba de ingresar:\n",
            "⎡2   1   -1⎤\n",
            "⎢          ⎥\n",
            "⎢-3  -1  2 ⎥\n",
            "⎢          ⎥\n",
            "⎣-2  1   2 ⎦\n",
            "\n",
            "Este es el vector b (constantes) que acaba de ingresar:\n",
            "⎡ 8 ⎤\n",
            "⎢   ⎥\n",
            "⎢-11⎥\n",
            "⎢   ⎥\n",
            "⎣-3 ⎦\n",
            "\n",
            "Esta es la matriz aumentada inicial [A|b]:\n",
            "⎡2   1   -1   8 ⎤\n",
            "⎢               ⎥\n",
            "⎢-3  -1  2   -11⎥\n",
            "⎢               ⎥\n",
            "⎣-2  1   2   -3 ⎦\n",
            "\n",
            "Esta es la matriz en forma escalonada reducida (Gauss-Jordan):\n",
            "⎡1  0  0  2 ⎤\n",
            "⎢           ⎥\n",
            "⎢0  1  0  3 ⎥\n",
            "⎢           ⎥\n",
            "⎣0  0  1  -1⎦\n",
            "Este  sistema tiene solución única y es consistente.\n",
            "x1 = 2\n",
            "x2 = 3\n",
            "x3 = -1\n"
          ]
        }
      ]
    },
    {
      "cell_type": "code",
      "source": [],
      "metadata": {
        "id": "ViX8xWZemqKH"
      },
      "execution_count": null,
      "outputs": []
    }
  ]
}